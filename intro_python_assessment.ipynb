{
 "cells": [
  {
   "cell_type": "code",
   "execution_count": 1,
   "metadata": {},
   "outputs": [],
   "source": [
    "import pandas as pd"
   ]
  },
  {
   "cell_type": "code",
   "execution_count": 2,
   "metadata": {},
   "outputs": [],
   "source": [
    "df = pd.read_csv(\"https://raw.githubusercontent.com/WalePhenomenon/climate_change/master/fuel_ferc1.csv\")"
   ]
  },
  {
   "cell_type": "code",
   "execution_count": 3,
   "metadata": {},
   "outputs": [
    {
     "name": "stdout",
     "output_type": "stream",
     "text": [
      "                     record_id  utility_id_ferc1  report_year  \\\n",
      "0        f1_fuel_1994_12_1_0_7                 1         1994   \n",
      "1       f1_fuel_1994_12_1_0_10                 1         1994   \n",
      "2        f1_fuel_1994_12_2_0_1                 2         1994   \n",
      "3        f1_fuel_1994_12_2_0_7                 2         1994   \n",
      "4       f1_fuel_1994_12_2_0_10                 2         1994   \n",
      "...                        ...               ...          ...   \n",
      "29518  f1_fuel_2018_12_12_0_13                12         2018   \n",
      "29519   f1_fuel_2018_12_12_1_1                12         2018   \n",
      "29520  f1_fuel_2018_12_12_1_10                12         2018   \n",
      "29521  f1_fuel_2018_12_12_1_13                12         2018   \n",
      "29522  f1_fuel_2018_12_12_1_14                12         2018   \n",
      "\n",
      "           plant_name_ferc1 fuel_type_code_pudl fuel_unit  fuel_qty_burned  \\\n",
      "0                  rockport                coal       ton        5377489.0   \n",
      "1      rockport total plant                coal       ton       10486945.0   \n",
      "2                    gorgas                coal       ton        2978683.0   \n",
      "3                     barry                coal       ton        3739484.0   \n",
      "4                 chickasaw                 gas       mcf          40533.0   \n",
      "...                     ...                 ...       ...              ...   \n",
      "29518    neil simpson ct #1                 gas       mcf          18799.0   \n",
      "29519  cheyenne prairie 58%                 gas       mcf         806730.0   \n",
      "29520     lange ct facility                 gas       mcf         104554.0   \n",
      "29521       wygen 3 bhp 52%                coal       ton         315945.0   \n",
      "29522       wygen 3 bhp 52%                 gas       mcf          17853.0   \n",
      "\n",
      "       fuel_mmbtu_per_unit  fuel_cost_per_unit_burned  \\\n",
      "0                   16.590                      18.59   \n",
      "1                   16.592                      18.58   \n",
      "2                   24.130                      39.72   \n",
      "3                   23.950                      47.21   \n",
      "4                    1.000                       2.77   \n",
      "...                    ...                        ...   \n",
      "29518                1.059                       4.78   \n",
      "29519                1.050                       3.65   \n",
      "29520                1.060                       4.77   \n",
      "29521               16.108                       3.06   \n",
      "29522                1.059                       0.00   \n",
      "\n",
      "       fuel_cost_per_unit_delivered  fuel_cost_per_mmbtu  \n",
      "0                             18.53                1.121  \n",
      "1                             18.53                1.120  \n",
      "2                             38.12                1.650  \n",
      "3                             45.99                1.970  \n",
      "4                              2.77                2.570  \n",
      "...                             ...                  ...  \n",
      "29518                          4.78                9.030  \n",
      "29519                          3.65                6.950  \n",
      "29520                          4.77                8.990  \n",
      "29521                         14.76                1.110  \n",
      "29522                          0.00               11.680  \n",
      "\n",
      "[29523 rows x 11 columns]\n"
     ]
    }
   ],
   "source": [
    "print(df)"
   ]
  },
  {
   "cell_type": "code",
   "execution_count": null,
   "metadata": {},
   "outputs": [],
   "source": []
  }
 ],
 "metadata": {
  "kernelspec": {
   "display_name": "Python 3",
   "language": "python",
   "name": "python3"
  },
  "language_info": {
   "codemirror_mode": {
    "name": "ipython",
    "version": 3
   },
   "file_extension": ".py",
   "mimetype": "text/x-python",
   "name": "python",
   "nbconvert_exporter": "python",
   "pygments_lexer": "ipython3",
   "version": "3.7.6"
  }
 },
 "nbformat": 4,
 "nbformat_minor": 4
}
